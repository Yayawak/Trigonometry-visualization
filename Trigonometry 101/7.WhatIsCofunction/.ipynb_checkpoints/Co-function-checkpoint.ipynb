{
 "cells": [
  {
   "cell_type": "code",
   "execution_count": 1,
   "id": "fbe3a1c9-8706-4f54-ae68-f0d358164b47",
   "metadata": {},
   "outputs": [
    {
     "data": {
      "text/html": [
       "<pre style=\"white-space:pre;overflow-x:auto;line-height:normal;font-family:Menlo,'DejaVu Sans Mono',consolas,'Courier New',monospace\">Manim Community <span style=\"color: #008000\">v0.7.0</span>\n",
       "\n",
       "</pre>\n"
      ],
      "text/plain": [
       "<rich.jupyter.JupyterRenderable at 0x7f8d38ba3700>"
      ]
     },
     "metadata": {},
     "output_type": "display_data"
    }
   ],
   "source": [
    "import jupyter_manim\n",
    "from manim import *"
   ]
  },
  {
   "cell_type": "code",
   "execution_count": 11,
   "id": "443dd9b2-e635-4a98-80eb-03e6a1b36bfc",
   "metadata": {},
   "outputs": [],
   "source": [
    "class CoF(MovingCameraScene):\n",
    "    def construct(self):\n",
    "        plane = NumberPlane(axis_config={'include_tip':False})\n",
    "        cir = Circle()\n",
    "        \n",
    "        self.play(Write(plane))\n",
    "        self.play(Write(cir))\n",
    "        \n",
    "        # pair of co-function be like 60-30, 75-15\n",
    "        d45 = Dot(cir.point_from_proportion(2/16))\n",
    "        \n",
    "        def getLine2Axes(centP):\n",
    "            hL = plane.get_horizontal_line(centP.get_center())\n",
    "            vL = plane.get_vertical_line(centP.get_center())\n",
    "            axesL = VGroup(hL,vL)\n",
    "            self.play(\n",
    "                Write(axesL),lag_ratio=1\n",
    "            )\n",
    "        def writeLine2Point(m):\n",
    "            l = Line(cir.get_center(),m.get_center(),color=WHITE)\n",
    "            self.play(Write(l))\n",
    "            return l\n",
    "        def writeAngle(line_):\n",
    "            ang = Angle(Line(ORIGIN,RIGHT),line_)\n",
    "            self.play(Write(ang))\n",
    "            \n",
    "        self.play(Write(d45))\n",
    "        getLine2Axes(d45)\n",
    "        writeAngle(writeLine2Point(d45))\n",
    "        self.wait()"
   ]
  },
  {
   "cell_type": "code",
   "execution_count": 12,
   "id": "0c6f1378-bf9a-4b62-a235-e077d3cb139e",
   "metadata": {},
   "outputs": [
    {
     "data": {
      "text/html": [
       "<pre style=\"white-space:pre;overflow-x:auto;line-height:normal;font-family:Menlo,'DejaVu Sans Mono',consolas,'Courier New',monospace\"><span style=\"color: #7fbfbf\">[06/12/21 02:19:54] </span><span style=\"color: #008000\">INFO</span>     Animation <span style=\"color: #008000\">0</span> : Using cached data <span style=\"font-weight: bold\">(</span>hash :    <a href=\"file:///home/liberio/.local/lib/python3.8/site-packages/manim/renderer/cairo_renderer.py\"><span style=\"color: #7f7f7f\">cairo_renderer.py</span></a><span style=\"color: #7f7f7f\">:100</span>\n",
       "                             1628528466_3205142481_3301670944<span style=\"font-weight: bold\">)</span>                               \n",
       "</pre>\n"
      ],
      "text/plain": [
       "<rich.jupyter.JupyterRenderable at 0x7f8d36c83dc0>"
      ]
     },
     "metadata": {},
     "output_type": "display_data"
    },
    {
     "name": "stderr",
     "output_type": "stream",
     "text": [
      "                                                                                       \r"
     ]
    },
    {
     "data": {
      "text/html": [
       "<pre style=\"white-space:pre;overflow-x:auto;line-height:normal;font-family:Menlo,'DejaVu Sans Mono',consolas,'Courier New',monospace\"><span style=\"color: #7fbfbf\">                    </span><span style=\"color: #008000\">INFO</span>     Animation <span style=\"color: #008000\">1</span> : Using cached data <span style=\"font-weight: bold\">(</span>hash :    <a href=\"file:///home/liberio/.local/lib/python3.8/site-packages/manim/renderer/cairo_renderer.py\"><span style=\"color: #7f7f7f\">cairo_renderer.py</span></a><span style=\"color: #7f7f7f\">:100</span>\n",
       "                             1239238897_2930364816_4034311996<span style=\"font-weight: bold\">)</span>                               \n",
       "</pre>\n"
      ],
      "text/plain": [
       "<rich.jupyter.JupyterRenderable at 0x7f8d36c112e0>"
      ]
     },
     "metadata": {},
     "output_type": "display_data"
    },
    {
     "name": "stderr",
     "output_type": "stream",
     "text": [
      "                                                                 \r"
     ]
    },
    {
     "data": {
      "text/html": [
       "<pre style=\"white-space:pre;overflow-x:auto;line-height:normal;font-family:Menlo,'DejaVu Sans Mono',consolas,'Courier New',monospace\"><span style=\"color: #7fbfbf\">                    </span><span style=\"color: #008000\">INFO</span>     Animation <span style=\"color: #008000\">2</span> : Using cached data <span style=\"font-weight: bold\">(</span>hash :    <a href=\"file:///home/liberio/.local/lib/python3.8/site-packages/manim/renderer/cairo_renderer.py\"><span style=\"color: #7f7f7f\">cairo_renderer.py</span></a><span style=\"color: #7f7f7f\">:100</span>\n",
       "                             1239238897_636284575_3564398982<span style=\"font-weight: bold\">)</span>                                \n",
       "</pre>\n"
      ],
      "text/plain": [
       "<rich.jupyter.JupyterRenderable at 0x7f8d36c128b0>"
      ]
     },
     "metadata": {},
     "output_type": "display_data"
    },
    {
     "name": "stderr",
     "output_type": "stream",
     "text": [
      "                                                                                             \r"
     ]
    },
    {
     "data": {
      "text/html": [
       "<pre style=\"white-space:pre;overflow-x:auto;line-height:normal;font-family:Menlo,'DejaVu Sans Mono',consolas,'Courier New',monospace\"><span style=\"color: #7fbfbf\">                    </span><span style=\"color: #008000\">INFO</span>     Animation <span style=\"color: #008000\">3</span> : Partial movie file        <a href=\"file:///home/liberio/.local/lib/python3.8/site-packages/manim/scene/scene_file_writer.py\"><span style=\"color: #7f7f7f\">scene_file_writer.py</span></a><span style=\"color: #7f7f7f\">:401</span>\n",
       "                             written in <span style=\"font-weight: bold\">{</span><span style=\"color: #008000\">'/home/liberio/Documents/Ma</span>                         \n",
       "                             <span style=\"color: #008000\">thematics/Trigonometry/Trigonometry 101</span>                         \n",
       "                             <span style=\"color: #008000\">/7.WhatIsCofunction/media/videos/7/480p</span>                         \n",
       "                             <span style=\"color: #008000\">15/partial_movie_files/CoF/1239238897_3</span>                         \n",
       "                             <span style=\"color: #008000\">546637842_569400299.mp4'</span><span style=\"font-weight: bold\">}</span>                                       \n",
       "</pre>\n"
      ],
      "text/plain": [
       "<rich.jupyter.JupyterRenderable at 0x7f8d36c12c70>"
      ]
     },
     "metadata": {},
     "output_type": "display_data"
    },
    {
     "name": "stderr",
     "output_type": "stream",
     "text": [
      "                                                                        \r"
     ]
    },
    {
     "data": {
      "text/html": [
       "<pre style=\"white-space:pre;overflow-x:auto;line-height:normal;font-family:Menlo,'DejaVu Sans Mono',consolas,'Courier New',monospace\"><span style=\"color: #7fbfbf\">[06/12/21 02:19:55] </span><span style=\"color: #008000\">INFO</span>     Animation <span style=\"color: #008000\">4</span> : Partial movie file        <a href=\"file:///home/liberio/.local/lib/python3.8/site-packages/manim/scene/scene_file_writer.py\"><span style=\"color: #7f7f7f\">scene_file_writer.py</span></a><span style=\"color: #7f7f7f\">:401</span>\n",
       "                             written in <span style=\"font-weight: bold\">{</span><span style=\"color: #008000\">'/home/liberio/Documents/Ma</span>                         \n",
       "                             <span style=\"color: #008000\">thematics/Trigonometry/Trigonometry 101</span>                         \n",
       "                             <span style=\"color: #008000\">/7.WhatIsCofunction/media/videos/7/480p</span>                         \n",
       "                             <span style=\"color: #008000\">15/partial_movie_files/CoF/1239238897_1</span>                         \n",
       "                             <span style=\"color: #008000\">217532684_3175532762.mp4'</span><span style=\"font-weight: bold\">}</span>                                      \n",
       "</pre>\n"
      ],
      "text/plain": [
       "<rich.jupyter.JupyterRenderable at 0x7f8d36ca2730>"
      ]
     },
     "metadata": {},
     "output_type": "display_data"
    },
    {
     "name": "stderr",
     "output_type": "stream",
     "text": [
      "                                                                           \r"
     ]
    },
    {
     "data": {
      "text/html": [
       "<pre style=\"white-space:pre;overflow-x:auto;line-height:normal;font-family:Menlo,'DejaVu Sans Mono',consolas,'Courier New',monospace\"><span style=\"color: #7fbfbf\">                    </span><span style=\"color: #008000\">INFO</span>     Animation <span style=\"color: #008000\">5</span> : Partial movie file        <a href=\"file:///home/liberio/.local/lib/python3.8/site-packages/manim/scene/scene_file_writer.py\"><span style=\"color: #7f7f7f\">scene_file_writer.py</span></a><span style=\"color: #7f7f7f\">:401</span>\n",
       "                             written in <span style=\"font-weight: bold\">{</span><span style=\"color: #008000\">'/home/liberio/Documents/Ma</span>                         \n",
       "                             <span style=\"color: #008000\">thematics/Trigonometry/Trigonometry 101</span>                         \n",
       "                             <span style=\"color: #008000\">/7.WhatIsCofunction/media/videos/7/480p</span>                         \n",
       "                             <span style=\"color: #008000\">15/partial_movie_files/CoF/1239238897_2</span>                         \n",
       "                             <span style=\"color: #008000\">675690601_1925653084.mp4'</span><span style=\"font-weight: bold\">}</span>                                      \n",
       "</pre>\n"
      ],
      "text/plain": [
       "<rich.jupyter.JupyterRenderable at 0x7f8d36ca6790>"
      ]
     },
     "metadata": {},
     "output_type": "display_data"
    },
    {
     "data": {
      "text/html": [
       "<pre style=\"white-space:pre;overflow-x:auto;line-height:normal;font-family:Menlo,'DejaVu Sans Mono',consolas,'Courier New',monospace\"><span style=\"color: #7fbfbf\">                    </span><span style=\"color: #008000\">INFO</span>     Animation <span style=\"color: #008000\">6</span> : Partial movie file        <a href=\"file:///home/liberio/.local/lib/python3.8/site-packages/manim/scene/scene_file_writer.py\"><span style=\"color: #7f7f7f\">scene_file_writer.py</span></a><span style=\"color: #7f7f7f\">:401</span>\n",
       "                             written in <span style=\"font-weight: bold\">{</span><span style=\"color: #008000\">'/home/liberio/Documents/Ma</span>                         \n",
       "                             <span style=\"color: #008000\">thematics/Trigonometry/Trigonometry 101</span>                         \n",
       "                             <span style=\"color: #008000\">/7.WhatIsCofunction/media/videos/7/480p</span>                         \n",
       "                             <span style=\"color: #008000\">15/partial_movie_files/CoF/1239238897_1</span>                         \n",
       "                             <span style=\"color: #008000\">441959293_507135645.mp4'</span><span style=\"font-weight: bold\">}</span>                                       \n",
       "</pre>\n"
      ],
      "text/plain": [
       "<rich.jupyter.JupyterRenderable at 0x7f8d36c467f0>"
      ]
     },
     "metadata": {},
     "output_type": "display_data"
    },
    {
     "data": {
      "text/html": [
       "<pre style=\"white-space:pre;overflow-x:auto;line-height:normal;font-family:Menlo,'DejaVu Sans Mono',consolas,'Courier New',monospace\"><span style=\"color: #7fbfbf\">                    </span><span style=\"color: #008000\">INFO</span>                                             <a href=\"file:///home/liberio/.local/lib/python3.8/site-packages/manim/scene/scene_file_writer.py\"><span style=\"color: #7f7f7f\">scene_file_writer.py</span></a><span style=\"color: #7f7f7f\">:585</span>\n",
       "                             <span style=\"color: #808000; font-weight: bold\">File</span> ready at <span style=\"color: #800080\">/home/liberio/Documents/M</span>                         \n",
       "                             <span style=\"color: #800080\">athematics/Trigonometry/</span><span style=\"color: #ff00ff\">Trigonometry</span> <span style=\"color: #008000\">10</span>                         \n",
       "                             <span style=\"color: #008000\">1</span>/<span style=\"color: #008000\">7.</span>WhatIsCofunction/media/videos/<span style=\"color: #008000\">7</span>/480                         \n",
       "                             p15/CoF.mp4                                                     \n",
       "                                                                                             \n",
       "</pre>\n"
      ],
      "text/plain": [
       "<rich.jupyter.JupyterRenderable at 0x7f8d36c46970>"
      ]
     },
     "metadata": {},
     "output_type": "display_data"
    },
    {
     "data": {
      "text/html": [
       "<pre style=\"white-space:pre;overflow-x:auto;line-height:normal;font-family:Menlo,'DejaVu Sans Mono',consolas,'Courier New',monospace\"><span style=\"color: #7fbfbf\">                    </span><span style=\"color: #008000\">INFO</span>     <span style=\"color: #808000; font-weight: bold\">Rendered</span> CoF                                        <a href=\"file:///home/liberio/.local/lib/python3.8/site-packages/manim/scene/scene.py\"><span style=\"color: #7f7f7f\">scene.py</span></a><span style=\"color: #7f7f7f\">:219</span>\n",
       "                             <span style=\"color: #808000; font-weight: bold\">Played</span> <span style=\"color: #008000\">7</span> <span style=\"color: #808000; font-weight: bold\">animations</span>                                             \n",
       "</pre>\n"
      ],
      "text/plain": [
       "<rich.jupyter.JupyterRenderable at 0x7f8d36c46850>"
      ]
     },
     "metadata": {},
     "output_type": "display_data"
    },
    {
     "data": {
      "text/html": [
       "<video src=\"media/jupyter/904df6ee59be1d0304c8c4d766b16e9868455204.mp4\" controls autoplay loop style=\"max-width: 25vw;\"  >\n",
       "      Your browser does not support the <code>video</code> element.\n",
       "    </video>"
      ],
      "text/plain": [
       "<IPython.core.display.Video object>"
      ]
     },
     "metadata": {},
     "output_type": "display_data"
    }
   ],
   "source": [
    "%manim -ql CoF"
   ]
  }
 ],
 "metadata": {
  "kernelspec": {
   "display_name": "Python 3",
   "language": "python",
   "name": "python3"
  },
  "language_info": {
   "codemirror_mode": {
    "name": "ipython",
    "version": 3
   },
   "file_extension": ".py",
   "mimetype": "text/x-python",
   "name": "python",
   "nbconvert_exporter": "python",
   "pygments_lexer": "ipython3",
   "version": "3.8.5"
  }
 },
 "nbformat": 4,
 "nbformat_minor": 5
}
