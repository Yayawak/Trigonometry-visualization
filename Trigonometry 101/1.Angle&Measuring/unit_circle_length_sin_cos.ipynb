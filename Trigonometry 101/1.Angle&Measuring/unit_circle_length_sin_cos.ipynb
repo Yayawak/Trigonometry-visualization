{
 "cells": [
  {
   "cell_type": "code",
   "execution_count": 12,
   "id": "a4df2af8-de11-4136-b13d-47c7516d7f53",
   "metadata": {},
   "outputs": [],
   "source": [
    "from manim import *\n",
    "import jupyter_manim\n",
    "import numpy as np"
   ]
  },
  {
   "cell_type": "code",
   "execution_count": 36,
   "id": "bff2d4fb-dcf4-4b56-bf8a-a99315dd77a9",
   "metadata": {},
   "outputs": [],
   "source": [
    "from manim import *\n",
    "import jupyter_manim\n",
    "class UnitCirc(Scene):\n",
    "    def construct(self):\n",
    "        plane = NumberPlane(x_range=(-2,2,.5),\n",
    "                           y_range=(-2,2,.5),\n",
    "                           axis_config={\n",
    "                               'stroke_color':WHITE,\n",
    "                               'include_tip':False\n",
    "                           })\n",
    "        plane.add_coordinates()\n",
    "        circ =Circle()\n",
    "        arc = Arc(angle=(4*PI)/3)\n",
    "        self.play(Create(plane))\n",
    "        self.play(Create(circ))\n",
    "        self.play(Create(arc))\n",
    "       \n",
    "        self.wait()"
   ]
  },
  {
   "cell_type": "code",
   "execution_count": 37,
   "id": "0584a3f9-5f4d-4461-b084-74af65294b15",
   "metadata": {},
   "outputs": [
    {
     "data": {
      "text/html": [
       "<pre style=\"white-space:pre;overflow-x:auto;line-height:normal;font-family:Menlo,'DejaVu Sans Mono',consolas,'Courier New',monospace\"><span style=\"color: #7fbfbf\">[06/12/21 01:27:29] </span><span style=\"color: #008000\">INFO</span>     Animation <span style=\"color: #008000\">0</span> : Using cached data <span style=\"font-weight: bold\">(</span>hash :    <a href=\"file:///home/liberio/.local/lib/python3.8/site-packages/manim/renderer/cairo_renderer.py\"><span style=\"color: #7f7f7f\">cairo_renderer.py</span></a><span style=\"color: #7f7f7f\">:100</span>\n",
       "                             3163782288_2771569285_951340434<span style=\"font-weight: bold\">)</span>                                \n",
       "</pre>\n"
      ],
      "text/plain": [
       "<rich.jupyter.JupyterRenderable at 0x7f24b26c6700>"
      ]
     },
     "metadata": {},
     "output_type": "display_data"
    },
    {
     "name": "stderr",
     "output_type": "stream",
     "text": [
      "                                                                                        \r"
     ]
    },
    {
     "data": {
      "text/html": [
       "<pre style=\"white-space:pre;overflow-x:auto;line-height:normal;font-family:Menlo,'DejaVu Sans Mono',consolas,'Courier New',monospace\"><span style=\"color: #7fbfbf\">[06/12/21 01:27:30] </span><span style=\"color: #008000\">INFO</span>     Animation <span style=\"color: #008000\">1</span> : Using cached data <span style=\"font-weight: bold\">(</span>hash :    <a href=\"file:///home/liberio/.local/lib/python3.8/site-packages/manim/renderer/cairo_renderer.py\"><span style=\"color: #7f7f7f\">cairo_renderer.py</span></a><span style=\"color: #7f7f7f\">:100</span>\n",
       "                             607903841_336445575_3017605626<span style=\"font-weight: bold\">)</span>                                 \n",
       "</pre>\n"
      ],
      "text/plain": [
       "<rich.jupyter.JupyterRenderable at 0x7f24c0032880>"
      ]
     },
     "metadata": {},
     "output_type": "display_data"
    },
    {
     "name": "stderr",
     "output_type": "stream",
     "text": [
      "                                                                        \r"
     ]
    },
    {
     "data": {
      "text/html": [
       "<pre style=\"white-space:pre;overflow-x:auto;line-height:normal;font-family:Menlo,'DejaVu Sans Mono',consolas,'Courier New',monospace\"><span style=\"color: #7fbfbf\">[06/12/21 01:27:31] </span><span style=\"color: #008000\">INFO</span>     Animation <span style=\"color: #008000\">2</span> : Partial movie file        <a href=\"file:///home/liberio/.local/lib/python3.8/site-packages/manim/scene/scene_file_writer.py\"><span style=\"color: #7f7f7f\">scene_file_writer.py</span></a><span style=\"color: #7f7f7f\">:401</span>\n",
       "                             written in <span style=\"font-weight: bold\">{</span><span style=\"color: #008000\">'/home/liberio/Documents/Ma</span>                         \n",
       "                             <span style=\"color: #008000\">thematics/Trigonometry/Trigonometry 101</span>                         \n",
       "                             <span style=\"color: #008000\">/1.Angle&amp;Measuring/media/videos/1/480p1</span>                         \n",
       "                             <span style=\"color: #008000\">5/partial_movie_files/UnitCirc/60790384</span>                         \n",
       "                             <span style=\"color: #008000\">1_3457359687_2296668676.mp4'</span><span style=\"font-weight: bold\">}</span>                                   \n",
       "</pre>\n"
      ],
      "text/plain": [
       "<rich.jupyter.JupyterRenderable at 0x7f250f616520>"
      ]
     },
     "metadata": {},
     "output_type": "display_data"
    },
    {
     "data": {
      "text/html": [
       "<pre style=\"white-space:pre;overflow-x:auto;line-height:normal;font-family:Menlo,'DejaVu Sans Mono',consolas,'Courier New',monospace\"><span style=\"color: #7fbfbf\">[06/12/21 01:27:32] </span><span style=\"color: #008000\">INFO</span>     Animation <span style=\"color: #008000\">3</span> : Partial movie file        <a href=\"file:///home/liberio/.local/lib/python3.8/site-packages/manim/scene/scene_file_writer.py\"><span style=\"color: #7f7f7f\">scene_file_writer.py</span></a><span style=\"color: #7f7f7f\">:401</span>\n",
       "                             written in <span style=\"font-weight: bold\">{</span><span style=\"color: #008000\">'/home/liberio/Documents/Ma</span>                         \n",
       "                             <span style=\"color: #008000\">thematics/Trigonometry/Trigonometry 101</span>                         \n",
       "                             <span style=\"color: #008000\">/1.Angle&amp;Measuring/media/videos/1/480p1</span>                         \n",
       "                             <span style=\"color: #008000\">5/partial_movie_files/UnitCirc/60790384</span>                         \n",
       "                             <span style=\"color: #008000\">1_3466882479_2103392106.mp4'</span><span style=\"font-weight: bold\">}</span>                                   \n",
       "</pre>\n"
      ],
      "text/plain": [
       "<rich.jupyter.JupyterRenderable at 0x7f24c2bf91c0>"
      ]
     },
     "metadata": {},
     "output_type": "display_data"
    },
    {
     "data": {
      "text/html": [
       "<pre style=\"white-space:pre;overflow-x:auto;line-height:normal;font-family:Menlo,'DejaVu Sans Mono',consolas,'Courier New',monospace\"><span style=\"color: #7fbfbf\">                    </span><span style=\"color: #008000\">INFO</span>                                             <a href=\"file:///home/liberio/.local/lib/python3.8/site-packages/manim/scene/scene_file_writer.py\"><span style=\"color: #7f7f7f\">scene_file_writer.py</span></a><span style=\"color: #7f7f7f\">:585</span>\n",
       "                             <span style=\"color: #808000; font-weight: bold\">File</span> ready at <span style=\"color: #800080\">/home/liberio/Documents/M</span>                         \n",
       "                             <span style=\"color: #800080\">athematics/Trigonometry/</span><span style=\"color: #ff00ff\">Trigonometry</span> <span style=\"color: #008000\">10</span>                         \n",
       "                             <span style=\"color: #008000\">1</span>/<span style=\"color: #008000\">1.</span>Angle&amp;Measuring/media/videos/<span style=\"color: #008000\">1</span>/480p                         \n",
       "                             15/UnitCirc.mp4                                                 \n",
       "                                                                                             \n",
       "</pre>\n"
      ],
      "text/plain": [
       "<rich.jupyter.JupyterRenderable at 0x7f24b26c6f10>"
      ]
     },
     "metadata": {},
     "output_type": "display_data"
    },
    {
     "data": {
      "text/html": [
       "<pre style=\"white-space:pre;overflow-x:auto;line-height:normal;font-family:Menlo,'DejaVu Sans Mono',consolas,'Courier New',monospace\"><span style=\"color: #7fbfbf\">                    </span><span style=\"color: #008000\">INFO</span>     <span style=\"color: #808000; font-weight: bold\">Rendered</span> UnitCirc                                   <a href=\"file:///home/liberio/.local/lib/python3.8/site-packages/manim/scene/scene.py\"><span style=\"color: #7f7f7f\">scene.py</span></a><span style=\"color: #7f7f7f\">:219</span>\n",
       "                             <span style=\"color: #808000; font-weight: bold\">Played</span> <span style=\"color: #008000\">4</span> <span style=\"color: #808000; font-weight: bold\">animations</span>                                             \n",
       "</pre>\n"
      ],
      "text/plain": [
       "<rich.jupyter.JupyterRenderable at 0x7f24b26c6ac0>"
      ]
     },
     "metadata": {},
     "output_type": "display_data"
    },
    {
     "data": {
      "text/html": [
       "<video src=\"media/jupyter/f5a35535681bdc170ca1d73e404ccec7ffb018dd.mp4\" controls autoplay loop style=\"max-width: 25vw;\"  >\n",
       "      Your browser does not support the <code>video</code> element.\n",
       "    </video>"
      ],
      "text/plain": [
       "<IPython.core.display.Video object>"
      ]
     },
     "metadata": {},
     "output_type": "display_data"
    }
   ],
   "source": [
    "%manim -ql UnitCirc"
   ]
  }
 ],
 "metadata": {
  "kernelspec": {
   "display_name": "Python 3",
   "language": "python",
   "name": "python3"
  },
  "language_info": {
   "codemirror_mode": {
    "name": "ipython",
    "version": 3
   },
   "file_extension": ".py",
   "mimetype": "text/x-python",
   "name": "python",
   "nbconvert_exporter": "python",
   "pygments_lexer": "ipython3",
   "version": "3.8.5"
  }
 },
 "nbformat": 4,
 "nbformat_minor": 5
}
